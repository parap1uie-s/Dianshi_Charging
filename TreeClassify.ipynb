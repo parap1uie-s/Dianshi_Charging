{
 "cells": [
  {
   "cell_type": "code",
   "execution_count": 0,
   "metadata": {
    "colab": {
     "autoexec": {
      "startup": false,
      "wait_interval": 0
     }
    },
    "colab_type": "code",
    "id": "yOBAsbYIIx2P"
   },
   "outputs": [],
   "source": [
    "# 引入必需的函数库\n",
    "import pandas as pd\n",
    "import numpy as np\n",
    "from sklearn.model_selection import train_test_split\n",
    "import sklearn\n",
    "from sklearn.feature_selection import SelectFromModel\n",
    "from sklearn.preprocessing import PolynomialFeatures\n",
    "from sklearn.ensemble import GradientBoostingClassifier\n",
    "from sklearn import metrics"
   ]
  },
  {
   "cell_type": "code",
   "execution_count": 0,
   "metadata": {
    "colab": {
     "autoexec": {
      "startup": false,
      "wait_interval": 0
     }
    },
    "colab_type": "code",
    "id": "CDdaBbhlBs9O"
   },
   "outputs": [],
   "source": [
    "# 划分数据\n",
    "all_pd = pd.read_csv( \"data_train.csv\", sep=',', names=['K1K2驱动信号', '电子锁驱动信号','急停信号','门禁信号','THDV-M','THDI-M','label'])"
   ]
  },
  {
   "cell_type": "code",
   "execution_count": 6,
   "metadata": {
    "colab": {
     "autoexec": {
      "startup": false,
      "wait_interval": 0
     },
     "base_uri": "https://localhost:8080/",
     "height": 297
    },
    "colab_type": "code",
    "executionInfo": {
     "elapsed": 1177,
     "status": "ok",
     "timestamp": 1525623635292,
     "user": {
      "displayName": "359809280@qq.com",
      "photoUrl": "https://lh3.googleusercontent.com/a/default-user=s128",
      "userId": "106642438996496828680"
     },
     "user_tz": -480
    },
    "id": "BlUQP7xOVOCu",
    "outputId": "68519af0-1b4b-4878-e254-6ae22c543b32"
   },
   "outputs": [
    {
     "data": {
      "text/html": [
       "<div>\n",
       "<style scoped>\n",
       "    .dataframe tbody tr th:only-of-type {\n",
       "        vertical-align: middle;\n",
       "    }\n",
       "\n",
       "    .dataframe tbody tr th {\n",
       "        vertical-align: top;\n",
       "    }\n",
       "\n",
       "    .dataframe thead th {\n",
       "        text-align: right;\n",
       "    }\n",
       "</style>\n",
       "<table border=\"1\" class=\"dataframe\">\n",
       "  <thead>\n",
       "    <tr style=\"text-align: right;\">\n",
       "      <th></th>\n",
       "      <th>K1K2驱动信号</th>\n",
       "      <th>电子锁驱动信号</th>\n",
       "      <th>急停信号</th>\n",
       "      <th>门禁信号</th>\n",
       "      <th>THDV-M</th>\n",
       "      <th>THDI-M</th>\n",
       "      <th>label</th>\n",
       "    </tr>\n",
       "  </thead>\n",
       "  <tbody>\n",
       "    <tr>\n",
       "      <th>count</th>\n",
       "      <td>85500.000000</td>\n",
       "      <td>85500.000000</td>\n",
       "      <td>85500.000000</td>\n",
       "      <td>85500.000000</td>\n",
       "      <td>85500.000000</td>\n",
       "      <td>85500.000000</td>\n",
       "      <td>85500.000000</td>\n",
       "    </tr>\n",
       "    <tr>\n",
       "      <th>mean</th>\n",
       "      <td>11.809984</td>\n",
       "      <td>12.128766</td>\n",
       "      <td>-0.073558</td>\n",
       "      <td>12.060010</td>\n",
       "      <td>26.617066</td>\n",
       "      <td>37.528266</td>\n",
       "      <td>0.500000</td>\n",
       "    </tr>\n",
       "    <tr>\n",
       "      <th>std</th>\n",
       "      <td>0.015879</td>\n",
       "      <td>0.014637</td>\n",
       "      <td>0.014417</td>\n",
       "      <td>0.012433</td>\n",
       "      <td>53.560158</td>\n",
       "      <td>55.491146</td>\n",
       "      <td>0.500003</td>\n",
       "    </tr>\n",
       "    <tr>\n",
       "      <th>min</th>\n",
       "      <td>11.735606</td>\n",
       "      <td>12.056209</td>\n",
       "      <td>-0.141751</td>\n",
       "      <td>12.001741</td>\n",
       "      <td>8.455756</td>\n",
       "      <td>8.004304</td>\n",
       "      <td>0.000000</td>\n",
       "    </tr>\n",
       "    <tr>\n",
       "      <th>25%</th>\n",
       "      <td>11.801417</td>\n",
       "      <td>12.121097</td>\n",
       "      <td>-0.081192</td>\n",
       "      <td>12.053098</td>\n",
       "      <td>11.210131</td>\n",
       "      <td>18.775064</td>\n",
       "      <td>0.000000</td>\n",
       "    </tr>\n",
       "    <tr>\n",
       "      <th>50%</th>\n",
       "      <td>11.810531</td>\n",
       "      <td>12.129028</td>\n",
       "      <td>-0.073402</td>\n",
       "      <td>12.059551</td>\n",
       "      <td>15.576817</td>\n",
       "      <td>26.210275</td>\n",
       "      <td>0.500000</td>\n",
       "    </tr>\n",
       "    <tr>\n",
       "      <th>75%</th>\n",
       "      <td>11.818357</td>\n",
       "      <td>12.136946</td>\n",
       "      <td>-0.065624</td>\n",
       "      <td>12.067110</td>\n",
       "      <td>27.886568</td>\n",
       "      <td>40.446093</td>\n",
       "      <td>1.000000</td>\n",
       "    </tr>\n",
       "    <tr>\n",
       "      <th>max</th>\n",
       "      <td>11.880811</td>\n",
       "      <td>12.199404</td>\n",
       "      <td>-0.001241</td>\n",
       "      <td>12.114959</td>\n",
       "      <td>6861.198222</td>\n",
       "      <td>7197.115193</td>\n",
       "      <td>1.000000</td>\n",
       "    </tr>\n",
       "  </tbody>\n",
       "</table>\n",
       "</div>"
      ],
      "text/plain": [
       "           K1K2驱动信号       电子锁驱动信号          急停信号          门禁信号        THDV-M  \\\n",
       "count  85500.000000  85500.000000  85500.000000  85500.000000  85500.000000   \n",
       "mean      11.809984     12.128766     -0.073558     12.060010     26.617066   \n",
       "std        0.015879      0.014637      0.014417      0.012433     53.560158   \n",
       "min       11.735606     12.056209     -0.141751     12.001741      8.455756   \n",
       "25%       11.801417     12.121097     -0.081192     12.053098     11.210131   \n",
       "50%       11.810531     12.129028     -0.073402     12.059551     15.576817   \n",
       "75%       11.818357     12.136946     -0.065624     12.067110     27.886568   \n",
       "max       11.880811     12.199404     -0.001241     12.114959   6861.198222   \n",
       "\n",
       "             THDI-M         label  \n",
       "count  85500.000000  85500.000000  \n",
       "mean      37.528266      0.500000  \n",
       "std       55.491146      0.500003  \n",
       "min        8.004304      0.000000  \n",
       "25%       18.775064      0.000000  \n",
       "50%       26.210275      0.500000  \n",
       "75%       40.446093      1.000000  \n",
       "max     7197.115193      1.000000  "
      ]
     },
     "execution_count": 6,
     "metadata": {
      "tags": []
     },
     "output_type": "execute_result"
    }
   ],
   "source": [
    "# 探索性数据分析\n",
    "all_pd.describe()"
   ]
  },
  {
   "cell_type": "code",
   "execution_count": 7,
   "metadata": {
    "colab": {
     "autoexec": {
      "startup": false,
      "wait_interval": 0
     },
     "base_uri": "https://localhost:8080/",
     "height": 297
    },
    "colab_type": "code",
    "executionInfo": {
     "elapsed": 2267,
     "status": "ok",
     "timestamp": 1525623637688,
     "user": {
      "displayName": "359809280@qq.com",
      "photoUrl": "https://lh3.googleusercontent.com/a/default-user=s128",
      "userId": "106642438996496828680"
     },
     "user_tz": -480
    },
    "id": "TaU3iU1kVpj2",
    "outputId": "530a1948-1547-4abf-ce7c-d7142b50303a"
   },
   "outputs": [
    {
     "data": {
      "text/html": [
       "<div>\n",
       "<style scoped>\n",
       "    .dataframe tbody tr th:only-of-type {\n",
       "        vertical-align: middle;\n",
       "    }\n",
       "\n",
       "    .dataframe tbody tr th {\n",
       "        vertical-align: top;\n",
       "    }\n",
       "\n",
       "    .dataframe thead th {\n",
       "        text-align: right;\n",
       "    }\n",
       "</style>\n",
       "<table border=\"1\" class=\"dataframe\">\n",
       "  <thead>\n",
       "    <tr style=\"text-align: right;\">\n",
       "      <th></th>\n",
       "      <th>K1K2驱动信号</th>\n",
       "      <th>电子锁驱动信号</th>\n",
       "      <th>急停信号</th>\n",
       "      <th>门禁信号</th>\n",
       "      <th>THDV-M</th>\n",
       "      <th>THDI-M</th>\n",
       "    </tr>\n",
       "  </thead>\n",
       "  <tbody>\n",
       "    <tr>\n",
       "      <th>count</th>\n",
       "      <td>36644.000000</td>\n",
       "      <td>36644.000000</td>\n",
       "      <td>36644.000000</td>\n",
       "      <td>36644.000000</td>\n",
       "      <td>36644.000000</td>\n",
       "      <td>36644.000000</td>\n",
       "    </tr>\n",
       "    <tr>\n",
       "      <th>mean</th>\n",
       "      <td>11.810068</td>\n",
       "      <td>12.128750</td>\n",
       "      <td>-0.073496</td>\n",
       "      <td>12.059812</td>\n",
       "      <td>26.825217</td>\n",
       "      <td>40.186763</td>\n",
       "    </tr>\n",
       "    <tr>\n",
       "      <th>std</th>\n",
       "      <td>0.015947</td>\n",
       "      <td>0.014513</td>\n",
       "      <td>0.014525</td>\n",
       "      <td>0.012521</td>\n",
       "      <td>57.362011</td>\n",
       "      <td>370.765413</td>\n",
       "    </tr>\n",
       "    <tr>\n",
       "      <th>min</th>\n",
       "      <td>11.734548</td>\n",
       "      <td>12.059299</td>\n",
       "      <td>-0.137070</td>\n",
       "      <td>12.000966</td>\n",
       "      <td>8.819448</td>\n",
       "      <td>7.827390</td>\n",
       "    </tr>\n",
       "    <tr>\n",
       "      <th>25%</th>\n",
       "      <td>11.801417</td>\n",
       "      <td>12.121097</td>\n",
       "      <td>-0.081192</td>\n",
       "      <td>12.053098</td>\n",
       "      <td>11.246829</td>\n",
       "      <td>18.861033</td>\n",
       "    </tr>\n",
       "    <tr>\n",
       "      <th>50%</th>\n",
       "      <td>11.810531</td>\n",
       "      <td>12.129028</td>\n",
       "      <td>-0.073402</td>\n",
       "      <td>12.059551</td>\n",
       "      <td>15.638636</td>\n",
       "      <td>26.322794</td>\n",
       "    </tr>\n",
       "    <tr>\n",
       "      <th>75%</th>\n",
       "      <td>11.818357</td>\n",
       "      <td>12.136946</td>\n",
       "      <td>-0.065624</td>\n",
       "      <td>12.067110</td>\n",
       "      <td>28.105188</td>\n",
       "      <td>40.686875</td>\n",
       "    </tr>\n",
       "    <tr>\n",
       "      <th>max</th>\n",
       "      <td>11.889563</td>\n",
       "      <td>12.200959</td>\n",
       "      <td>-0.008032</td>\n",
       "      <td>12.111794</td>\n",
       "      <td>4838.301181</td>\n",
       "      <td>67911.581370</td>\n",
       "    </tr>\n",
       "  </tbody>\n",
       "</table>\n",
       "</div>"
      ],
      "text/plain": [
       "           K1K2驱动信号       电子锁驱动信号          急停信号          门禁信号        THDV-M  \\\n",
       "count  36644.000000  36644.000000  36644.000000  36644.000000  36644.000000   \n",
       "mean      11.810068     12.128750     -0.073496     12.059812     26.825217   \n",
       "std        0.015947      0.014513      0.014525      0.012521     57.362011   \n",
       "min       11.734548     12.059299     -0.137070     12.000966      8.819448   \n",
       "25%       11.801417     12.121097     -0.081192     12.053098     11.246829   \n",
       "50%       11.810531     12.129028     -0.073402     12.059551     15.638636   \n",
       "75%       11.818357     12.136946     -0.065624     12.067110     28.105188   \n",
       "max       11.889563     12.200959     -0.008032     12.111794   4838.301181   \n",
       "\n",
       "             THDI-M  \n",
       "count  36644.000000  \n",
       "mean      40.186763  \n",
       "std      370.765413  \n",
       "min        7.827390  \n",
       "25%       18.861033  \n",
       "50%       26.322794  \n",
       "75%       40.686875  \n",
       "max    67911.581370  "
      ]
     },
     "execution_count": 7,
     "metadata": {
      "tags": []
     },
     "output_type": "execute_result"
    }
   ],
   "source": [
    "# 加载测试数据\n",
    "test_pd = pd.read_csv( \"data_test.csv\", sep=',', names=['K1K2驱动信号', '电子锁驱动信号','急停信号','门禁信号','THDV-M','THDI-M'])\n",
    "test_pd.describe()"
   ]
  },
  {
   "cell_type": "code",
   "execution_count": 0,
   "metadata": {
    "colab": {
     "autoexec": {
      "startup": false,
      "wait_interval": 0
     }
    },
    "colab_type": "code",
    "id": "zmnM91ZZKy5w"
   },
   "outputs": [],
   "source": [
    "# pandas -> nparray，随机划分train/val，80：20\n",
    "X = np.array(all_pd.iloc[:,0:-1].values.tolist(), dtype='float32')\n",
    "y = np.array(all_pd.iloc[:,-1].values.tolist(), dtype='float32')\n",
    "\n",
    "train_X,val_X, train_y, val_y = train_test_split(X, y, test_size = 0.2, random_state = 42)"
   ]
  },
  {
   "cell_type": "code",
   "execution_count": 30,
   "metadata": {
    "colab": {
     "autoexec": {
      "startup": false,
      "wait_interval": 0
     },
     "base_uri": "https://localhost:8080/",
     "height": 35
    },
    "colab_type": "code",
    "executionInfo": {
     "elapsed": 1030,
     "status": "ok",
     "timestamp": 1525441461293,
     "user": {
      "displayName": "359809280@qq.com",
      "photoUrl": "https://lh3.googleusercontent.com/a/default-user=s128",
      "userId": "106642438996496828680"
     },
     "user_tz": -480
    },
    "id": "6nKg-pUtYRVd",
    "outputId": "9c44e7a6-afb8-4bfd-e600-f88f114ca4ec"
   },
   "outputs": [
    {
     "data": {
      "text/plain": [
       "0.8946045478459109"
      ]
     },
     "execution_count": 30,
     "metadata": {
      "tags": []
     },
     "output_type": "execute_result"
    }
   ],
   "source": [
    "# 决策树\n",
    "from sklearn.tree import DecisionTreeClassifier\n",
    "cls=DecisionTreeClassifier(max_depth=6,min_samples_split=10,min_samples_leaf=5,max_features=0.7)\n",
    "\n",
    "cls.fit(train_X,train_y)\n",
    "y_pred=cls.predict_proba(val_X)[:,1]\n",
    "y_pred = [int(round(r)) for r in y_pred]\n",
    "metrics.f1_score(val_y,y_pred)"
   ]
  },
  {
   "cell_type": "code",
   "execution_count": 37,
   "metadata": {
    "colab": {
     "autoexec": {
      "startup": false,
      "wait_interval": 0
     },
     "base_uri": "https://localhost:8080/",
     "height": 35
    },
    "colab_type": "code",
    "executionInfo": {
     "elapsed": 3413,
     "status": "ok",
     "timestamp": 1525441526343,
     "user": {
      "displayName": "359809280@qq.com",
      "photoUrl": "https://lh3.googleusercontent.com/a/default-user=s128",
      "userId": "106642438996496828680"
     },
     "user_tz": -480
    },
    "id": "v-2X4dzoYe6d",
    "outputId": "706494bf-5a9f-47b5-c87a-87cdf6b8b665"
   },
   "outputs": [
    {
     "data": {
      "text/plain": [
       "0.9489496537965028"
      ]
     },
     "execution_count": 37,
     "metadata": {
      "tags": []
     },
     "output_type": "execute_result"
    }
   ],
   "source": [
    "# 随机森林\n",
    "from sklearn.ensemble import RandomForestClassifier\n",
    "cls=RandomForestClassifier(max_depth=100,min_samples_split=10,min_samples_leaf=5,max_features=0.8)\n",
    "\n",
    "cls.fit(train_X,train_y)\n",
    "y_pred=cls.predict_proba(val_X)[:,1]\n",
    "y_pred = [int(round(r)) for r in y_pred]\n",
    "metrics.f1_score(val_y,y_pred)"
   ]
  },
  {
   "cell_type": "code",
   "execution_count": 40,
   "metadata": {
    "colab": {
     "autoexec": {
      "startup": false,
      "wait_interval": 0
     },
     "base_uri": "https://localhost:8080/",
     "height": 35
    },
    "colab_type": "code",
    "executionInfo": {
     "elapsed": 1543,
     "status": "ok",
     "timestamp": 1525441585708,
     "user": {
      "displayName": "359809280@qq.com",
      "photoUrl": "https://lh3.googleusercontent.com/a/default-user=s128",
      "userId": "106642438996496828680"
     },
     "user_tz": -480
    },
    "id": "XDnVQ9_MZqtf",
    "outputId": "46a5e51d-cad2-4dde-bab2-cce2f56b30ed"
   },
   "outputs": [
    {
     "data": {
      "text/plain": [
       "0.9636963696369636"
      ]
     },
     "execution_count": 40,
     "metadata": {
      "tags": []
     },
     "output_type": "execute_result"
    }
   ],
   "source": [
    "# 不知道什么树\n",
    "from sklearn.ensemble import ExtraTreesClassifier\n",
    "cls=ExtraTreesClassifier(max_depth=100,min_samples_split=10,min_samples_leaf=5,max_features=0.8)\n",
    "\n",
    "cls.fit(train_X,train_y)\n",
    "y_pred=cls.predict_proba(val_X)[:,1]\n",
    "y_pred = [int(round(r)) for r in y_pred]\n",
    "metrics.f1_score(val_y,y_pred)"
   ]
  },
  {
   "cell_type": "code",
   "execution_count": 44,
   "metadata": {
    "colab": {
     "autoexec": {
      "startup": false,
      "wait_interval": 0
     },
     "base_uri": "https://localhost:8080/",
     "height": 35
    },
    "colab_type": "code",
    "executionInfo": {
     "elapsed": 44230,
     "status": "ok",
     "timestamp": 1525442014028,
     "user": {
      "displayName": "359809280@qq.com",
      "photoUrl": "https://lh3.googleusercontent.com/a/default-user=s128",
      "userId": "106642438996496828680"
     },
     "user_tz": -480
    },
    "id": "6L0uL9dwZ69r",
    "outputId": "833e5df9-b80f-49ca-b95c-ba6b6650fc29"
   },
   "outputs": [
    {
     "data": {
      "text/plain": [
       "0.994256915142991"
      ]
     },
     "execution_count": 44,
     "metadata": {
      "tags": []
     },
     "output_type": "execute_result"
    }
   ],
   "source": [
    "# 梯度上升机\n",
    "from sklearn.ensemble import GradientBoostingClassifier\n",
    "cls=GradientBoostingClassifier(max_depth=10,min_samples_split=10,min_samples_leaf=5,max_features=0.7)\n",
    "\n",
    "cls.fit(train_X,train_y)\n",
    "y_pred=cls.predict_proba(val_X)[:,1]\n",
    "y_pred = [int(round(r)) for r in y_pred]\n",
    "metrics.f1_score(val_y,y_pred)"
   ]
  },
  {
   "cell_type": "code",
   "execution_count": 47,
   "metadata": {
    "colab": {
     "autoexec": {
      "startup": false,
      "wait_interval": 0
     },
     "base_uri": "https://localhost:8080/",
     "height": 35
    },
    "colab_type": "code",
    "executionInfo": {
     "elapsed": 10475,
     "status": "ok",
     "timestamp": 1525442082698,
     "user": {
      "displayName": "359809280@qq.com",
      "photoUrl": "https://lh3.googleusercontent.com/a/default-user=s128",
      "userId": "106642438996496828680"
     },
     "user_tz": -480
    },
    "id": "0SMPZhwrbitr",
    "outputId": "d10b00ea-c4dd-469e-bcb0-04989e8a5632"
   },
   "outputs": [
    {
     "data": {
      "text/plain": [
       "0.9923297616956497"
      ]
     },
     "execution_count": 47,
     "metadata": {
      "tags": []
     },
     "output_type": "execute_result"
    }
   ],
   "source": [
    "# XGBoost\n",
    "from xgboost.sklearn import XGBClassifier\n",
    "cls=XGBClassifier(max_depth=10,min_samples_split=10,min_samples_leaf=5,max_features=0.8)\n",
    "\n",
    "cls.fit(train_X,train_y)\n",
    "y_pred=cls.predict_proba(val_X)[:,1]\n",
    "y_pred = [int(round(r)) for r in y_pred]\n",
    "metrics.f1_score(val_y,y_pred)"
   ]
  },
  {
   "cell_type": "code",
   "execution_count": 10,
   "metadata": {
    "colab": {
     "autoexec": {
      "startup": false,
      "wait_interval": 0
     },
     "base_uri": "https://localhost:8080/",
     "height": 35
    },
    "colab_type": "code",
    "executionInfo": {
     "elapsed": 5772,
     "status": "ok",
     "timestamp": 1525623656835,
     "user": {
      "displayName": "359809280@qq.com",
      "photoUrl": "https://lh3.googleusercontent.com/a/default-user=s128",
      "userId": "106642438996496828680"
     },
     "user_tz": -480
    },
    "id": "yhTQKP3wbwGk",
    "outputId": "ee615eef-8a4b-4590-fa66-a236dab842af"
   },
   "outputs": [
    {
     "data": {
      "text/plain": [
       "1.0"
      ]
     },
     "execution_count": 10,
     "metadata": {
      "tags": []
     },
     "output_type": "execute_result"
    }
   ],
   "source": [
    "# lightGBM\n",
    "from lightgbm import LGBMClassifier\n",
    "cls=LGBMClassifier(boosting_type='gbdt', n_estimators=500, max_depth=-1,min_child_samples=10)\n",
    "\n",
    "cls.fit(train_X,train_y)\n",
    "y_pred=cls.predict_proba(val_X)[:,1]\n",
    "y_pred = [int(round(r)) for r in y_pred]\n",
    "metrics.f1_score(val_y,y_pred)"
   ]
  },
  {
   "cell_type": "code",
   "execution_count": 11,
   "metadata": {
    "colab": {
     "autoexec": {
      "startup": false,
      "wait_interval": 0
     },
     "base_uri": "https://localhost:8080/",
     "height": 73
    },
    "colab_type": "code",
    "executionInfo": {
     "elapsed": 3188,
     "status": "ok",
     "timestamp": 1525623668717,
     "user": {
      "displayName": "359809280@qq.com",
      "photoUrl": "https://lh3.googleusercontent.com/a/default-user=s128",
      "userId": "106642438996496828680"
     },
     "user_tz": -480
    },
    "id": "NuWhJrT5FKp6",
    "outputId": "a638eafb-9b84-4df5-adcc-2ec818027754"
   },
   "outputs": [
    {
     "name": "stderr",
     "output_type": "stream",
     "text": [
      "/usr/local/lib/python3.6/dist-packages/sklearn/preprocessing/label.py:151: DeprecationWarning: The truth value of an empty array is ambiguous. Returning False, but in future this will result in an error. Use `array.size > 0` to check that an array is not empty.\n",
      "  if diff:\n"
     ]
    }
   ],
   "source": [
    "# 最终lightGBM在val上取得了1.0的f1，使用该分类器执行预测\n",
    "# 获得线上1.0的成绩\n",
    "test_data = pd.read_csv( \"data_test.csv\", sep=',', names=['f1', 'f2','f3','f4','f5','f6']).as_matrix()\n",
    "result = open(\"result.csv\", \"w+\", encoding=\"UTF-8\")\n",
    "\n",
    "res = cls.predict(test_data)\n",
    "\n",
    "for i,r in enumerate(res):\n",
    "    result.write(\"{},{}\\n\".format(i+1,int(round(r)) ))\n",
    "result.close()"
   ]
  },
  {
   "cell_type": "code",
   "execution_count": 0,
   "metadata": {
    "colab": {
     "autoexec": {
      "startup": false,
      "wait_interval": 0
     }
    },
    "colab_type": "code",
    "id": "vCO8EVv0HZoY"
   },
   "outputs": [],
   "source": []
  }
 ],
 "metadata": {
  "colab": {
   "default_view": {},
   "name": "TreeClassify.ipynb",
   "provenance": [],
   "version": "0.3.2",
   "views": {}
  },
  "kernelspec": {
   "display_name": "Python 3",
   "language": "python",
   "name": "python3"
  },
  "language_info": {
   "codemirror_mode": {
    "name": "ipython",
    "version": 3
   },
   "file_extension": ".py",
   "mimetype": "text/x-python",
   "name": "python",
   "nbconvert_exporter": "python",
   "pygments_lexer": "ipython3",
   "version": "3.6.5"
  }
 },
 "nbformat": 4,
 "nbformat_minor": 1
}
