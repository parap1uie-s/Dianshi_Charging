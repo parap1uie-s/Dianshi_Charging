{
 "cells": [
  {
   "cell_type": "code",
   "execution_count": 0,
   "metadata": {
    "colab": {
     "autoexec": {
      "startup": false,
      "wait_interval": 0
     }
    },
    "colab_type": "code",
    "id": "yOBAsbYIIx2P"
   },
   "outputs": [],
   "source": [
    "# 引入使用的依赖库\n",
    "import pandas as pd\n",
    "import numpy as np\n",
    "from sklearn.model_selection import train_test_split\n",
    "import sklearn\n",
    "from sklearn.feature_selection import SelectFromModel\n",
    "from sklearn.preprocessing import PolynomialFeatures\n",
    "from sklearn.ensemble import GradientBoostingClassifier"
   ]
  },
  {
   "cell_type": "code",
   "execution_count": 19,
   "metadata": {
    "colab": {
     "autoexec": {
      "startup": false,
      "wait_interval": 0
     },
     "base_uri": "https://localhost:8080/",
     "height": 53
    },
    "colab_type": "code",
    "executionInfo": {
     "elapsed": 1259,
     "status": "ok",
     "timestamp": 1525440968909,
     "user": {
      "displayName": "359809280@qq.com",
      "photoUrl": "https://lh3.googleusercontent.com/a/default-user=s128",
      "userId": "106642438996496828680"
     },
     "user_tz": -480
    },
    "id": "CDdaBbhlBs9O",
    "outputId": "995259b8-d56e-4ba5-edcd-79361841fed6"
   },
   "outputs": [
    {
     "name": "stdout",
     "output_type": "stream",
     "text": [
      "(85500, 2)\n",
      "(85500,)\n"
     ]
    }
   ],
   "source": [
    "# 读取数据，归一化\n",
    "all_pd = pd.read_csv( \"data_train.csv\", sep=',', names=['f1', 'f2','f3','f4','f5','f6','label'])\n",
    "X = np.array(all_pd.iloc[:,4:6].values.tolist(), dtype='float32')\n",
    "y = np.array(all_pd.iloc[:,-1].values.tolist(), dtype='float32')\n",
    "\n",
    "scaler = sklearn.preprocessing.StandardScaler().fit(X)\n",
    "X = scaler.transform(X)\n",
    "\n",
    "print(X.shape)\n",
    "print(y.shape)"
   ]
  },
  {
   "cell_type": "code",
   "execution_count": 0,
   "metadata": {
    "colab": {
     "autoexec": {
      "startup": false,
      "wait_interval": 0
     }
    },
    "colab_type": "code",
    "id": "zmnM91ZZKy5w"
   },
   "outputs": [],
   "source": [
    "# 随机划分train/val, 80:20\n",
    "train_X,val_X, train_y, val_y = train_test_split(X, y, test_size = 0.2, random_state = 42)"
   ]
  },
  {
   "cell_type": "code",
   "execution_count": 0,
   "metadata": {
    "colab": {
     "autoexec": {
      "startup": false,
      "wait_interval": 0
     }
    },
    "colab_type": "code",
    "id": "_ykFhy4mFo3h"
   },
   "outputs": [],
   "source": [
    "# 定义f1 metric\n",
    "from keras import backend as K\n",
    "\n",
    "def f1(y_true, y_pred):\n",
    "    def recall(y_true, y_pred):\n",
    "        \"\"\"Recall metric.\n",
    "\n",
    "        Only computes a batch-wise average of recall.\n",
    "\n",
    "        Computes the recall, a metric for multi-label classification of\n",
    "        how many relevant items are selected.\n",
    "        \"\"\"\n",
    "        true_positives = K.sum(K.round(K.clip(y_true * y_pred, 0, 1)))\n",
    "        possible_positives = K.sum(K.round(K.clip(y_true, 0, 1)))\n",
    "        recall = true_positives / (possible_positives + K.epsilon())\n",
    "        return recall\n",
    "\n",
    "    def precision(y_true, y_pred):\n",
    "        \"\"\"Precision metric.\n",
    "\n",
    "        Only computes a batch-wise average of precision.\n",
    "\n",
    "        Computes the precision, a metric for multi-label classification of\n",
    "        how many selected items are relevant.\n",
    "        \"\"\"\n",
    "        true_positives = K.sum(K.round(K.clip(y_true * y_pred, 0, 1)))\n",
    "        predicted_positives = K.sum(K.round(K.clip(y_pred, 0, 1)))\n",
    "        precision = true_positives / (predicted_positives + K.epsilon())\n",
    "        return precision\n",
    "    precision = precision(y_true, y_pred)\n",
    "    recall = recall(y_true, y_pred)\n",
    "    return 2*((precision*recall)/(precision+recall+K.epsilon()))"
   ]
  },
  {
   "cell_type": "code",
   "execution_count": 0,
   "metadata": {
    "colab": {
     "autoexec": {
      "startup": false,
      "wait_interval": 0
     }
    },
    "colab_type": "code",
    "id": "BQirbvnbESMT"
   },
   "outputs": [],
   "source": [
    "# 定义MLP模型结构\n",
    "import numpy as np\n",
    "from keras.models import Sequential\n",
    "from keras.layers import Dense, Dropout\n",
    "\n",
    "model = Sequential()\n",
    "model.add(Dense(8, input_dim=2, activation='relu'))\n",
    "model.add(Dropout(0.5))\n",
    "model.add(Dense(4, activation='relu'))\n",
    "model.add(Dropout(0.5))\n",
    "model.add(Dense(2, activation='relu'))\n",
    "model.add(Dropout(0.5))\n",
    "model.add(Dense(1, activation='sigmoid'))\n",
    "\n",
    "model.compile(loss='binary_crossentropy',\n",
    "              optimizer='rmsprop',\n",
    "              metrics=[f1])"
   ]
  },
  {
   "cell_type": "code",
   "execution_count": 0,
   "metadata": {
    "colab": {
     "autoexec": {
      "startup": false,
      "wait_interval": 0
     }
    },
    "colab_type": "code",
    "id": "0-PX5_D8Jrht"
   },
   "outputs": [],
   "source": [
    "# 定义callback\n",
    "from keras.callbacks import EarlyStopping,ModelCheckpoint\n",
    "callbacks = [EarlyStopping(monitor='val_f1', min_delta=0.001, patience=10, verbose=0, mode='max'), \n",
    "    ModelCheckpoint(\"w.h5\", monitor='val_f1', verbose=0, save_best_only=True, save_weights_only=True, mode='max', period=1)]"
   ]
  },
  {
   "cell_type": "code",
   "execution_count": 28,
   "metadata": {
    "colab": {
     "autoexec": {
      "startup": false,
      "wait_interval": 0
     },
     "base_uri": "https://localhost:8080/",
     "height": 1205
    },
    "colab_type": "code",
    "executionInfo": {
     "elapsed": 15238,
     "status": "ok",
     "timestamp": 1525441042740,
     "user": {
      "displayName": "359809280@qq.com",
      "photoUrl": "https://lh3.googleusercontent.com/a/default-user=s128",
      "userId": "106642438996496828680"
     },
     "user_tz": -480
    },
    "id": "NTPr8en3FC3W",
    "outputId": "860eb18a-5774-4711-8b50-ac45a9156dff"
   },
   "outputs": [
    {
     "name": "stdout",
     "output_type": "stream",
     "text": [
      "Train on 68400 samples, validate on 17100 samples\n",
      "Epoch 1/100\n",
      "68400/68400 [==============================] - 1s 9us/step - loss: 0.6953 - f1: 0.2987 - val_loss: 0.6914 - val_f1: 0.5803\n",
      "Epoch 2/100\n",
      "68400/68400 [==============================] - 0s 4us/step - loss: 0.6928 - f1: 0.2910 - val_loss: 0.6892 - val_f1: 0.8367\n",
      "Epoch 3/100\n",
      "68400/68400 [==============================] - 0s 5us/step - loss: 0.6917 - f1: 0.3685 - val_loss: 0.6861 - val_f1: 0.7821\n",
      "Epoch 4/100\n",
      "68400/68400 [==============================] - 0s 4us/step - loss: 0.6886 - f1: 0.4984 - val_loss: 0.6823 - val_f1: 0.7746\n",
      "Epoch 5/100\n",
      "68400/68400 [==============================] - 0s 5us/step - loss: 0.6859 - f1: 0.4985 - val_loss: 0.6774 - val_f1: 0.7821\n",
      "Epoch 6/100\n",
      "68400/68400 [==============================] - 0s 5us/step - loss: 0.6841 - f1: 0.5037 - val_loss: 0.6721 - val_f1: 0.7937\n",
      "Epoch 7/100\n",
      "68400/68400 [==============================] - 0s 5us/step - loss: 0.6803 - f1: 0.5155 - val_loss: 0.6655 - val_f1: 0.8020\n",
      "Epoch 8/100\n",
      "68400/68400 [==============================] - 0s 5us/step - loss: 0.6769 - f1: 0.5147 - val_loss: 0.6584 - val_f1: 0.8227\n",
      "Epoch 9/100\n",
      "68400/68400 [==============================] - 0s 5us/step - loss: 0.6752 - f1: 0.4766 - val_loss: 0.6530 - val_f1: 0.8399\n",
      "Epoch 10/100\n",
      "68400/68400 [==============================] - 0s 5us/step - loss: 0.6710 - f1: 0.4963 - val_loss: 0.6456 - val_f1: 0.8452\n",
      "Epoch 11/100\n",
      "68400/68400 [==============================] - 0s 5us/step - loss: 0.6680 - f1: 0.5074 - val_loss: 0.6374 - val_f1: 0.8548\n",
      "Epoch 12/100\n",
      "68400/68400 [==============================] - 0s 5us/step - loss: 0.6639 - f1: 0.5253 - val_loss: 0.6289 - val_f1: 0.8657\n",
      "Epoch 13/100\n",
      "68400/68400 [==============================] - 0s 5us/step - loss: 0.6618 - f1: 0.5303 - val_loss: 0.6202 - val_f1: 0.8712\n",
      "Epoch 14/100\n",
      "55296/68400 [=======================>......] - ETA: 0s - loss: 0.6573 - f1: 0.544668400/68400 [==============================] - 0s 5us/step - loss: 0.6565 - f1: 0.5451 - val_loss: 0.6089 - val_f1: 0.8771\n",
      "Epoch 15/100\n",
      "68400/68400 [==============================] - 0s 5us/step - loss: 0.6530 - f1: 0.5498 - val_loss: 0.6001 - val_f1: 0.8839\n",
      "Epoch 16/100\n",
      "68400/68400 [==============================] - 0s 5us/step - loss: 0.6495 - f1: 0.5544 - val_loss: 0.5901 - val_f1: 0.8880\n",
      "Epoch 17/100\n",
      "68400/68400 [==============================] - 0s 5us/step - loss: 0.6459 - f1: 0.5508 - val_loss: 0.5824 - val_f1: 0.8903\n",
      "Epoch 18/100\n",
      "68400/68400 [==============================] - 0s 5us/step - loss: 0.6431 - f1: 0.5579 - val_loss: 0.5766 - val_f1: 0.8910\n",
      "Epoch 19/100\n",
      "68400/68400 [==============================] - 0s 5us/step - loss: 0.6382 - f1: 0.5662 - val_loss: 0.5674 - val_f1: 0.8901\n",
      "Epoch 20/100\n",
      "68400/68400 [==============================] - 0s 5us/step - loss: 0.6345 - f1: 0.5709 - val_loss: 0.5564 - val_f1: 0.8906\n",
      "Epoch 21/100\n",
      "68400/68400 [==============================] - 0s 5us/step - loss: 0.6311 - f1: 0.5718 - val_loss: 0.5483 - val_f1: 0.8910\n",
      "Epoch 22/100\n",
      "68400/68400 [==============================] - 0s 5us/step - loss: 0.6287 - f1: 0.5721 - val_loss: 0.5400 - val_f1: 0.8916\n",
      "Epoch 23/100\n",
      "68400/68400 [==============================] - 0s 5us/step - loss: 0.6263 - f1: 0.5663 - val_loss: 0.5336 - val_f1: 0.8909\n",
      "Epoch 24/100\n",
      "68400/68400 [==============================] - 0s 5us/step - loss: 0.6214 - f1: 0.5685 - val_loss: 0.5232 - val_f1: 0.8912\n",
      "Epoch 25/100\n",
      "68400/68400 [==============================] - 0s 5us/step - loss: 0.6187 - f1: 0.5807 - val_loss: 0.5160 - val_f1: 0.8914\n",
      "Epoch 26/100\n",
      "68400/68400 [==============================] - 0s 5us/step - loss: 0.6151 - f1: 0.5630 - val_loss: 0.5104 - val_f1: 0.8906\n",
      "Epoch 27/100\n",
      "68400/68400 [==============================] - 0s 5us/step - loss: 0.6150 - f1: 0.5504 - val_loss: 0.5041 - val_f1: 0.8904\n",
      "Epoch 28/100\n",
      "68400/68400 [==============================] - 0s 5us/step - loss: 0.6097 - f1: 0.5809 - val_loss: 0.4941 - val_f1: 0.8907\n",
      "Epoch 29/100\n",
      "68400/68400 [==============================] - 0s 5us/step - loss: 0.6103 - f1: 0.5780 - val_loss: 0.4914 - val_f1: 0.8881\n",
      "Epoch 30/100\n",
      "68400/68400 [==============================] - 0s 5us/step - loss: 0.6091 - f1: 0.5833 - val_loss: 0.4853 - val_f1: 0.8885\n",
      "Epoch 31/100\n",
      "68400/68400 [==============================] - 0s 5us/step - loss: 0.6078 - f1: 0.5854 - val_loss: 0.4824 - val_f1: 0.8861\n",
      "Epoch 32/100\n",
      "68400/68400 [==============================] - 0s 5us/step - loss: 0.6035 - f1: 0.5867 - val_loss: 0.4805 - val_f1: 0.8836\n"
     ]
    },
    {
     "data": {
      "text/plain": [
       "<keras.callbacks.History at 0x7f5c0746a518>"
      ]
     },
     "execution_count": 28,
     "metadata": {
      "tags": []
     },
     "output_type": "execute_result"
    }
   ],
   "source": [
    "# 训练\n",
    "model.fit(train_X, train_y,epochs=100,batch_size=2048,validation_data=(val_X, val_y), callbacks=callbacks)"
   ]
  },
  {
   "cell_type": "code",
   "execution_count": 0,
   "metadata": {
    "colab": {
     "autoexec": {
      "startup": false,
      "wait_interval": 0
     }
    },
    "colab_type": "code",
    "id": "NuWhJrT5FKp6"
   },
   "outputs": [],
   "source": [
    "# 产出预测结果\n",
    "test_data = pd.read_csv( \"data_test.csv\", sep=',', names=['f1', 'f2','f3','f4','f5','f6']).as_matrix()\n",
    "result = open(\"result.csv\", \"w+\", encoding=\"UTF-8\")\n",
    "test_data = scaler.transform(test_data)\n",
    "\n",
    "res = model.predict(test_data)\n",
    "\n",
    "for i,r in enumerate(res):\n",
    "    result.write(\"{},{}\\n\".format(i+1,int(round(r[0])) ))\n",
    "result.close()"
   ]
  },
  {
   "cell_type": "code",
   "execution_count": 0,
   "metadata": {
    "colab": {
     "autoexec": {
      "startup": false,
      "wait_interval": 0
     }
    },
    "colab_type": "code",
    "id": "vCO8EVv0HZoY"
   },
   "outputs": [],
   "source": []
  }
 ],
 "metadata": {
  "accelerator": "GPU",
  "colab": {
   "collapsed_sections": [],
   "default_view": {},
   "name": "MLPbaseline.ipynb",
   "provenance": [],
   "version": "0.3.2",
   "views": {}
  },
  "kernelspec": {
   "display_name": "Python 3",
   "language": "python",
   "name": "python3"
  },
  "language_info": {
   "codemirror_mode": {
    "name": "ipython",
    "version": 3
   },
   "file_extension": ".py",
   "mimetype": "text/x-python",
   "name": "python",
   "nbconvert_exporter": "python",
   "pygments_lexer": "ipython3",
   "version": "3.6.5"
  }
 },
 "nbformat": 4,
 "nbformat_minor": 1
}
